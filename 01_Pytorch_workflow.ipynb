{
 "cells": [
  {
   "cell_type": "code",
   "execution_count": 1,
   "id": "9bebc5ff",
   "metadata": {},
   "outputs": [
    {
     "data": {
      "text/plain": [
       "'1.12.1'"
      ]
     },
     "execution_count": 1,
     "metadata": {},
     "output_type": "execute_result"
    }
   ],
   "source": [
    "import torch\n",
    "from torch import nn   # nn contains all of pytorch's bulding blocks for neural networks \n",
    "import matplotlib.pyplot as plt\n",
    "\n",
    "\n",
    "torch.__version__"
   ]
  },
  {
   "cell_type": "markdown",
   "id": "e32f1dc1",
   "metadata": {},
   "source": [
    "# Machine Learning of Two parts:\n",
    "\n",
    "1. Get data into a numerical representation.\n",
    "2. Build a model to learn patterns in that numerical represtation.\n",
    "\n",
    "We'll use linear regression formula to make a straight line with known parameters."
   ]
  },
  {
   "cell_type": "code",
   "execution_count": 2,
   "id": "e719d0fe",
   "metadata": {},
   "outputs": [
    {
     "data": {
      "text/plain": [
       "(tensor([[0.0000],\n",
       "         [0.0200],\n",
       "         [0.0400],\n",
       "         [0.0600],\n",
       "         [0.0800],\n",
       "         [0.1000],\n",
       "         [0.1200],\n",
       "         [0.1400],\n",
       "         [0.1600],\n",
       "         [0.1800]]),\n",
       " tensor([[0.3000],\n",
       "         [0.3140],\n",
       "         [0.3280],\n",
       "         [0.3420],\n",
       "         [0.3560],\n",
       "         [0.3700],\n",
       "         [0.3840],\n",
       "         [0.3980],\n",
       "         [0.4120],\n",
       "         [0.4260]]))"
      ]
     },
     "execution_count": 2,
     "metadata": {},
     "output_type": "execute_result"
    }
   ],
   "source": [
    "# Create *known*  parameters\n",
    "\n",
    "weight = 0.7\n",
    "bias = 0.3\n",
    "\n",
    "# Create \n",
    "\n",
    "start = 0\n",
    "end = 1\n",
    "step = 0.02\n",
    "X = torch.arange(start, end , step).unsqueeze(dim=1)\n",
    "y = weight*X + bias\n",
    "\n",
    "X[:10], y[:10]"
   ]
  },
  {
   "cell_type": "code",
   "execution_count": 3,
   "id": "99694139",
   "metadata": {},
   "outputs": [
    {
     "data": {
      "text/plain": [
       "(50, 50)"
      ]
     },
     "execution_count": 3,
     "metadata": {},
     "output_type": "execute_result"
    }
   ],
   "source": [
    "len(X), len(y)"
   ]
  },
  {
   "cell_type": "markdown",
   "id": "e422c72b",
   "metadata": {},
   "source": [
    "# Splitting data into training and test sets\n",
    "\n",
    "Let's create a training and test set with our data."
   ]
  },
  {
   "cell_type": "code",
   "execution_count": 4,
   "id": "2a3c2824",
   "metadata": {},
   "outputs": [
    {
     "name": "stdout",
     "output_type": "stream",
     "text": [
      "40\n"
     ]
    },
    {
     "data": {
      "text/plain": [
       "(40, 40, 10, 10)"
      ]
     },
     "execution_count": 4,
     "metadata": {},
     "output_type": "execute_result"
    }
   ],
   "source": [
    "# Create a train/test split\n",
    "\n",
    "train_split = int(0.8 * len(X))\n",
    "print(train_split)\n",
    "\n",
    "X_train, y_train = X[:train_split], y[:train_split]\n",
    "X_test, y_test = X[train_split:], y[train_split:]\n",
    "\n",
    "len(X_train), len(y_train), len(X_test), len(y_test)"
   ]
  },
  {
   "cell_type": "markdown",
   "id": "a31eee48",
   "metadata": {},
   "source": [
    "### How might we better visulize our data?\n",
    "\n",
    "This is where the data explorer's motto comes in! \n",
    "\n",
    "\"Visualize, Visualize, Visualize!\""
   ]
  },
  {
   "cell_type": "code",
   "execution_count": 5,
   "id": "a7e23790",
   "metadata": {},
   "outputs": [],
   "source": [
    "def plot_predictions(train_data = X_train,\n",
    "                    train_labels = y_train,\n",
    "                    test_data = X_test,\n",
    "                    test_labels = y_test, \n",
    "                    predictions = None):\n",
    "\n",
    "#     plt.figure(figsize=(10, 7))  #diagram image size\n",
    "    \n",
    "    # Plot training data in blue \n",
    "    plt.scatter(train_data, train_labels, c='b', s=4, label=\"Training data\")\n",
    "    \n",
    "    # Plot test data in green \n",
    "    plt.scatter(test_data, test_labels, c='g', s=4, label=\"Testing data\")\n",
    "    \n",
    "    # Ara there predicions ?\n",
    "    if predictions is not None:\n",
    "        #Plot the prediction if they exist\n",
    "        plt.scatter(test_data , predictions, c='r', s=4, label=\"Predictions\")\n",
    "        \n",
    "    # Show the legend\n",
    "    plt.legend(prop={\"size\" : 14});"
   ]
  },
  {
   "cell_type": "code",
   "execution_count": 6,
   "id": "15c06b15",
   "metadata": {},
   "outputs": [
    {
     "data": {
      "image/png": "[encoded data removed]",
      "text/plain": [
       "<Figure size 640x480 with 1 Axes>"
      ]
     },
     "metadata": {},
     "output_type": "display_data"
    }
   ],
   "source": [
    "plot_predictions();"
   ]
  },
  {
   "cell_type": "markdown",
   "id": "709b3d0e",
   "metadata": {},
   "source": [
    "# 2. Build model\n",
    "\n",
    "Our first PyTorch model!"
   ]
  },
  {
   "cell_type": "code",
   "execution_count": 7,
   "id": "98543506",
   "metadata": {},
   "outputs": [],
   "source": [
    "from torch import nn\n",
    "\n",
    "# create linear regression model class\n",
    "\n",
    "class LinearRegressionModel(nn.Module):    # almost everyting in PyTorch inherhits from nn.Module\n",
    "    \n",
    "    def __init__(self):                                    # You models should subclass this class.\n",
    "        super().__init__()\n",
    "        self.weights = nn.Parameter(torch.randn(1, \n",
    "                                                requires_grad = True, # can this parameter be update via gradient descent \n",
    "                                                dtype = torch.float)) # pytorch loves the datatype torch.float32\n",
    "        self.bias = nn.Parameter(torch.randn(1, \n",
    "                                            requires_grad = True,\n",
    "                                            dtype = torch.float))\n",
    "\n",
    "        #forward method to define the computation in the model \n",
    "    def forward(self, x: torch.Tensor) -> torch.Tensor:  # \"x\" is the input data \n",
    "        return self.weights * x + self.bias # this is the liner regression formula\n",
    "            "
   ]
  },
  {
   "cell_type": "code",
   "execution_count": 8,
   "id": "a041d6e5",
   "metadata": {},
   "outputs": [
    {
     "data": {
      "text/plain": [
       "tensor([0.3367])"
      ]
     },
     "execution_count": 8,
     "metadata": {},
     "output_type": "execute_result"
    }
   ],
   "source": [
    "torch.manual_seed(42)\n",
    "torch.randn(1)"
   ]
  },
  {
   "cell_type": "markdown",
   "id": "6dfd7c38",
   "metadata": {},
   "source": [
    "## PyTorch model building essentials \n",
    "\n",
    "torch.nn - contains all of the building for computation graphs \n",
    "\n",
    "torch.nn.Parameter - what parameter should our model try and learn\n",
    "\n",
    "torch.nn.Module - The base should overwrite forward()\n",
    "\n",
    "torch.optim - contians various optimization algorithms "
   ]
  },
  {
   "cell_type": "code",
   "execution_count": 9,
   "id": "ef009b01",
   "metadata": {},
   "outputs": [
    {
     "data": {
      "text/plain": [
       "[Parameter containing:\n",
       " tensor([0.3367], requires_grad=True),\n",
       " Parameter containing:\n",
       " tensor([0.1288], requires_grad=True)]"
      ]
     },
     "execution_count": 9,
     "metadata": {},
     "output_type": "execute_result"
    }
   ],
   "source": [
    "# Creating a random seed \n",
    "torch.manual_seed(42)\n",
    "\n",
    "# Crate an instance of the model(this is a subclass of nn.Module)\n",
    "model_0 = LinearRegressionModel()\n",
    "\n",
    "# Check out the parameters \n",
    "list(model_0.parameters())"
   ]
  },
  {
   "cell_type": "code",
   "execution_count": 10,
   "id": "7e70c3e8",
   "metadata": {},
   "outputs": [
    {
     "data": {
      "text/plain": [
       "OrderedDict([('weights', tensor([0.3367])), ('bias', tensor([0.1288]))])"
      ]
     },
     "execution_count": 10,
     "metadata": {},
     "output_type": "execute_result"
    }
   ],
   "source": [
    "# List named parameteres\n",
    "model_0.state_dict()"
   ]
  },
  {
   "cell_type": "markdown",
   "id": "169dccda",
   "metadata": {},
   "source": [
    "# Making predicion using torch.inference_mode()\n",
    "\n",
    "To check our model's predictive power, let's see how well it predicts y_test based on x_test \n"
   ]
  },
  {
   "cell_type": "code",
   "execution_count": 11,
   "id": "c6f2e1a7",
   "metadata": {},
   "outputs": [
    {
     "data": {
      "text/plain": [
       "tensor([[0.3982],\n",
       "        [0.4049],\n",
       "        [0.4116],\n",
       "        [0.4184],\n",
       "        [0.4251],\n",
       "        [0.4318],\n",
       "        [0.4386],\n",
       "        [0.4453],\n",
       "        [0.4520],\n",
       "        [0.4588]], grad_fn=<AddBackward0>)"
      ]
     },
     "execution_count": 11,
     "metadata": {},
     "output_type": "execute_result"
    }
   ],
   "source": [
    "y_preds = model_0(X_test)\n",
    "y_preds"
   ]
  },
  {
   "cell_type": "code",
   "execution_count": 12,
   "id": "e19aaee1",
   "metadata": {},
   "outputs": [
    {
     "data": {
      "text/plain": [
       "tensor([[0.3982],\n",
       "        [0.4049],\n",
       "        [0.4116],\n",
       "        [0.4184],\n",
       "        [0.4251],\n",
       "        [0.4318],\n",
       "        [0.4386],\n",
       "        [0.4453],\n",
       "        [0.4520],\n",
       "        [0.4588]])"
      ]
     },
     "execution_count": 12,
     "metadata": {},
     "output_type": "execute_result"
    }
   ],
   "source": [
    "# Make prediction with model \n",
    "with torch.inference_mode():   # inference(અનુમાન) mode dislable all other unnecessary things\n",
    "    y_preds = model_0(X_test)\n",
    "    \n",
    "y_preds"
   ]
  },
  {
   "cell_type": "code",
   "execution_count": 13,
   "id": "7aac2407",
   "metadata": {},
   "outputs": [
    {
     "data": {
      "text/plain": [
       "tensor([[0.8600],\n",
       "        [0.8740],\n",
       "        [0.8880],\n",
       "        [0.9020],\n",
       "        [0.9160],\n",
       "        [0.9300],\n",
       "        [0.9440],\n",
       "        [0.9580],\n",
       "        [0.9720],\n",
       "        [0.9860]])"
      ]
     },
     "execution_count": 13,
     "metadata": {},
     "output_type": "execute_result"
    }
   ],
   "source": [
    "y_test"
   ]
  },
  {
   "cell_type": "code",
   "execution_count": 14,
   "id": "e1a99452",
   "metadata": {},
   "outputs": [
    {
     "data": {
      "image/png": "[encoded data removed]",
      "text/plain": [
       "<Figure size 640x480 with 1 Axes>"
      ]
     },
     "metadata": {},
     "output_type": "display_data"
    }
   ],
   "source": [
    "plot_predictions(predictions= y_preds)"
   ]
  },
  {
   "cell_type": "markdown",
   "id": "7a453bcd",
   "metadata": {},
   "source": [
    "# Train model \n",
    "\n",
    "* The whole idea of training is for a model to move from some **unknown** parameters(these may be random) to some **known**\n",
    "  parameters or other words from poor representation of the data to better representation of the data.\n",
    "\n",
    "* one way to measure how poor or how wrong your models predictions are is to use loss function.\n",
    "\n",
    "* **Loss function:** A function to measure how wrong your model's predtions are to the ideal output, lower is better.\n",
    "\n",
    "* Takes into account the loss of a model and adjusts the model's parameters(e.g. weights & bias) to improve the loss function.\n",
    "\n",
    "And specifically for pytorch, we need:\n",
    "* A training loop \n",
    "* A test loop\n"
   ]
  },
  {
   "cell_type": "code",
   "execution_count": 15,
   "id": "0c9b65ec",
   "metadata": {},
   "outputs": [
    {
     "data": {
      "text/plain": [
       "[Parameter containing:\n",
       " tensor([0.3367], requires_grad=True),\n",
       " Parameter containing:\n",
       " tensor([0.1288], requires_grad=True)]"
      ]
     },
     "execution_count": 15,
     "metadata": {},
     "output_type": "execute_result"
    }
   ],
   "source": [
    "list(model_0.parameters())"
   ]
  },
  {
   "cell_type": "code",
   "execution_count": 16,
   "id": "1d25458d",
   "metadata": {},
   "outputs": [
    {
     "data": {
      "text/plain": [
       "OrderedDict([('weights', tensor([0.3367])), ('bias', tensor([0.1288]))])"
      ]
     },
     "execution_count": 16,
     "metadata": {},
     "output_type": "execute_result"
    }
   ],
   "source": [
    "# check out our model's parameter ( a parameter is a value that the model set itself) \n",
    "model_0.state_dict()"
   ]
  },
  {
   "cell_type": "code",
   "execution_count": 17,
   "id": "08ddd43a",
   "metadata": {},
   "outputs": [],
   "source": [
    "# setup a lost funtion \n",
    "loss_fn = nn.L1Loss()\n",
    "\n",
    "# setup an optimizer (stochastic gredient descent)\n",
    "optimizer = torch.optim.SGD(params=model_0.parameters(),\n",
    "                          lr=0.01)  # lr = learning rate \n",
    " "
   ]
  },
  {
   "cell_type": "markdown",
   "id": "34c3b8f1",
   "metadata": {},
   "source": [
    "# Q- Which loss function and optimizer should i use?\n",
    "* This is problem specific. But with experince we say \n",
    "\n",
    "For a regression problem, a loss function of nn.L1Loss() and an optimizer like torch.optim.SGD() \n",
    "\n",
    "For classifiction problem(classifiying whather a photo is of dog or cat) loss function of nn.BCLoss() (binary cross entropy loss)"
   ]
  },
  {
   "cell_type": "markdown",
   "id": "3558ca46",
   "metadata": {},
   "source": [
    "# Building a training (and testing) loop in PyTorch\n",
    "\n",
    "Things we need in a training loop:\n",
    "\n",
    "1. Loop through the data\n",
    "2. Forward pass( this involves data moving through our model)\n",
    "3. calculate the loss \n",
    "4. optimizer zero grad \n",
    "5. Loss backward - move backwords through the network to calculate the gradints of each of the parameters \n",
    "6. optimizer step - (gradint descent)"
   ]
  },
  {
   "cell_type": "code",
   "execution_count": 18,
   "id": "3c77146b",
   "metadata": {},
   "outputs": [
    {
     "name": "stdout",
     "output_type": "stream",
     "text": [
      "Epoch : 0 | Loss : 0.31288138031959534 | Test loss: 0.48106518387794495\n",
      "OrderedDict([('weights', tensor([0.3406])), ('bias', tensor([0.1388]))])\n",
      "Epoch : 10 | Loss : 0.1976713240146637 | Test loss: 0.3463551998138428\n",
      "OrderedDict([('weights', tensor([0.3796])), ('bias', tensor([0.2388]))])\n",
      "Epoch : 20 | Loss : 0.08908725529909134 | Test loss: 0.21729660034179688\n",
      "OrderedDict([('weights', tensor([0.4184])), ('bias', tensor([0.3333]))])\n",
      "Epoch : 30 | Loss : 0.053148526698350906 | Test loss: 0.14464017748832703\n",
      "OrderedDict([('weights', tensor([0.4512])), ('bias', tensor([0.3768]))])\n",
      "Epoch : 40 | Loss : 0.04543796554207802 | Test loss: 0.11360953003168106\n",
      "OrderedDict([('weights', tensor([0.4748])), ('bias', tensor([0.3868]))])\n",
      "Epoch : 50 | Loss : 0.04167863354086876 | Test loss: 0.09919948130846024\n",
      "OrderedDict([('weights', tensor([0.4938])), ('bias', tensor([0.3843]))])\n",
      "Epoch : 60 | Loss : 0.03818932920694351 | Test loss: 0.08886633068323135\n",
      "OrderedDict([('weights', tensor([0.5116])), ('bias', tensor([0.3788]))])\n",
      "Epoch : 70 | Loss : 0.03476089984178543 | Test loss: 0.0805937647819519\n",
      "OrderedDict([('weights', tensor([0.5288])), ('bias', tensor([0.3718]))])\n",
      "Epoch : 80 | Loss : 0.03132382780313492 | Test loss: 0.07232122868299484\n",
      "OrderedDict([('weights', tensor([0.5459])), ('bias', tensor([0.3648]))])\n",
      "Epoch : 90 | Loss : 0.02788739837706089 | Test loss: 0.06473556160926819\n",
      "OrderedDict([('weights', tensor([0.5629])), ('bias', tensor([0.3573]))])\n",
      "Epoch : 100 | Loss : 0.024458957836031914 | Test loss: 0.05646304413676262\n",
      "OrderedDict([('weights', tensor([0.5800])), ('bias', tensor([0.3503]))])\n",
      "Epoch : 110 | Loss : 0.021020207554101944 | Test loss: 0.04819049686193466\n",
      "OrderedDict([('weights', tensor([0.5972])), ('bias', tensor([0.3433]))])\n",
      "Epoch : 120 | Loss : 0.01758546568453312 | Test loss: 0.04060482233762741\n",
      "OrderedDict([('weights', tensor([0.6141])), ('bias', tensor([0.3358]))])\n",
      "Epoch : 130 | Loss : 0.014155393466353416 | Test loss: 0.03233227878808975\n",
      "OrderedDict([('weights', tensor([0.6313])), ('bias', tensor([0.3288]))])\n",
      "Epoch : 140 | Loss : 0.010716589167714119 | Test loss: 0.024059748277068138\n",
      "OrderedDict([('weights', tensor([0.6485])), ('bias', tensor([0.3218]))])\n",
      "Epoch : 150 | Loss : 0.0072835334576666355 | Test loss: 0.016474086791276932\n",
      "OrderedDict([('weights', tensor([0.6654])), ('bias', tensor([0.3143]))])\n",
      "Epoch : 160 | Loss : 0.0038517764769494534 | Test loss: 0.008201557211577892\n",
      "OrderedDict([('weights', tensor([0.6826])), ('bias', tensor([0.3073]))])\n",
      "Epoch : 170 | Loss : 0.008932482451200485 | Test loss: 0.005023092031478882\n",
      "OrderedDict([('weights', tensor([0.6951])), ('bias', tensor([0.2993]))])\n",
      "Epoch : 180 | Loss : 0.008932482451200485 | Test loss: 0.005023092031478882\n",
      "OrderedDict([('weights', tensor([0.6951])), ('bias', tensor([0.2993]))])\n",
      "Epoch : 190 | Loss : 0.008932482451200485 | Test loss: 0.005023092031478882\n",
      "OrderedDict([('weights', tensor([0.6951])), ('bias', tensor([0.2993]))])\n"
     ]
    }
   ],
   "source": [
    "# epoch is one loop through the data. (This is hyperperameter beacuse we set it our ourselves)\n",
    "epochs = 200\n",
    "\n",
    "epoch_count = []\n",
    "loss_values = []\n",
    "test_loss_values = []\n",
    "\n",
    "## Training \n",
    "# 1. loop through the data \n",
    "for epoch in range(epochs):\n",
    "    # set the model to training model\n",
    "    model_0.train()\n",
    "    \n",
    "    # 1. Forward pass\n",
    "    y_pred = model_0(X_train)\n",
    "    \n",
    "    #2. calculate the loss \n",
    "    loss = loss_fn(y_pred, y_train)\n",
    "#     print(f\"Loss: {loss}\")\n",
    "    \n",
    "    #3. opotimizer zero grad\n",
    "    optimizer.zero_grad()\n",
    "    \n",
    "    #4. perform backpropagation on the loss with respect to the parameters of the model\n",
    "    loss.backward()\n",
    "    \n",
    "    # 5. step the optimizer (perform gradient descent)\n",
    "    optimizer.step() # by default how the optimizer changes will acculumate throgh th loop so... we have zero them above ub steo=p 3 the next iteration of the loop\n",
    "    \n",
    "    \n",
    "    ### Testig \n",
    "    model_0.eval()  # turns off diffrent setting in the model not needed for evaluation/testing (dropout/batch norm layers)\n",
    "    with torch.inference_mode(): # turns off gradient tracking & a couple more things behind the scenes\n",
    "#     with torch.no_grad(): # you may also see torch.no_grad() in older PyTorch code\n",
    "        # 1. Do the forward pass\n",
    "        test_pred = model_0(X_test)\n",
    "\n",
    "        # 2. calculate the loss \n",
    "        test_loss = loss_fn(test_pred, y_test)\n",
    "    \n",
    "    # Print out what's happening \n",
    "    if epoch % 10 == 0:\n",
    "        epoch_count.append(epoch)\n",
    "        loss_values.append(loss)\n",
    "        test_loss_values.append(test_loss)\n",
    "        print(f\"Epoch : {epoch} | Loss : {loss} | Test loss: {test_loss}\")\n",
    "        print(model_0.state_dict())  #Print out model state_dict()"
   ]
  },
  {
   "cell_type": "code",
   "execution_count": 19,
   "id": "0d91850f",
   "metadata": {},
   "outputs": [
    {
     "data": {
      "text/plain": [
       "(array([0.31288138, 0.19767132, 0.08908726, 0.05314853, 0.04543797,\n",
       "        0.04167863, 0.03818933, 0.0347609 , 0.03132383, 0.0278874 ,\n",
       "        0.02445896, 0.02102021, 0.01758547, 0.01415539, 0.01071659,\n",
       "        0.00728353, 0.00385178, 0.00893248, 0.00893248, 0.00893248],\n",
       "       dtype=float32),\n",
       " [tensor(0.4811),\n",
       "  tensor(0.3464),\n",
       "  tensor(0.2173),\n",
       "  tensor(0.1446),\n",
       "  tensor(0.1136),\n",
       "  tensor(0.0992),\n",
       "  tensor(0.0889),\n",
       "  tensor(0.0806),\n",
       "  tensor(0.0723),\n",
       "  tensor(0.0647),\n",
       "  tensor(0.0565),\n",
       "  tensor(0.0482),\n",
       "  tensor(0.0406),\n",
       "  tensor(0.0323),\n",
       "  tensor(0.0241),\n",
       "  tensor(0.0165),\n",
       "  tensor(0.0082),\n",
       "  tensor(0.0050),\n",
       "  tensor(0.0050),\n",
       "  tensor(0.0050)])"
      ]
     },
     "execution_count": 19,
     "metadata": {},
     "output_type": "execute_result"
    }
   ],
   "source": [
    "import numpy as np \n",
    "np.array(torch.tensor(loss_values).numpy()), test_loss_values"
   ]
  },
  {
   "cell_type": "code",
   "execution_count": 20,
   "id": "7b40b52c",
   "metadata": {},
   "outputs": [
    {
     "data": {
      "image/png": "[encoded data removed]",
      "text/plain": [
       "<Figure size 640x480 with 1 Axes>"
      ]
     },
     "metadata": {},
     "output_type": "display_data"
    }
   ],
   "source": [
    "# Plot the loss curves\n",
    "plt.plot(epoch_count, np.array(torch.tensor(loss_values).numpy()), label=\"Train loss\")\n",
    "plt.plot(epoch_count, test_loss_values, label=\"Test loss\")\n",
    "plt.title(\"Training and test loss curves\")\n",
    "plt.ylabel(\"loss\")\n",
    "plt.xlabel(\"Epochs\")\n",
    "plt.legend();"
   ]
  },
  {
   "cell_type": "code",
   "execution_count": 21,
   "id": "37f6f947",
   "metadata": {},
   "outputs": [],
   "source": [
    "with torch.inference_mode():\n",
    "    y_preds_new = model_0(X_test)"
   ]
  },
  {
   "cell_type": "code",
   "execution_count": 22,
   "id": "7d68e5ff",
   "metadata": {},
   "outputs": [
    {
     "data": {
      "text/plain": [
       "OrderedDict([('weights', tensor([0.6990])), ('bias', tensor([0.3093]))])"
      ]
     },
     "execution_count": 22,
     "metadata": {},
     "output_type": "execute_result"
    }
   ],
   "source": [
    "model_0.state_dict()"
   ]
  },
  {
   "cell_type": "code",
   "execution_count": 23,
   "id": "52400a03",
   "metadata": {},
   "outputs": [
    {
     "data": {
      "text/plain": [
       "(0.7, 0.3)"
      ]
     },
     "execution_count": 23,
     "metadata": {},
     "output_type": "execute_result"
    }
   ],
   "source": [
    "weight, bias "
   ]
  },
  {
   "cell_type": "code",
   "execution_count": 24,
   "id": "2cff9f8f",
   "metadata": {},
   "outputs": [
    {
     "data": {
      "image/png": "[encoded data removed]",
      "text/plain": [
       "<Figure size 640x480 with 1 Axes>"
      ]
     },
     "metadata": {},
     "output_type": "display_data"
    }
   ],
   "source": [
    "plot_predictions(predictions = y_preds);"
   ]
  },
  {
   "cell_type": "code",
   "execution_count": 25,
   "id": "2283212a",
   "metadata": {},
   "outputs": [
    {
     "data": {
      "image/png": "[encoded data removed]",
      "text/plain": [
       "<Figure size 640x480 with 1 Axes>"
      ]
     },
     "metadata": {},
     "output_type": "display_data"
    }
   ],
   "source": [
    "plot_predictions(predictions = y_preds_new);"
   ]
  },
  {
   "cell_type": "markdown",
   "id": "317419d4",
   "metadata": {},
   "source": [
    "# Saving a model in PyTorch \n",
    "\n",
    "There are three main methods you should about for saving and loading models in PyTorch. \n",
    "\n",
    "1. **torch.save()**- allows you a PyTorch object in pytorch's pickle format \n",
    "\n",
    "2. **torch.load()** - allows you a saved PyTorch object \n",
    "\n",
    "3. **torch.nn.Module.load_state_dict()** - this allows to load a model' s saved state dictionary"
   ]
  },
  {
   "cell_type": "code",
   "execution_count": 26,
   "id": "188b83d4",
   "metadata": {},
   "outputs": [
    {
     "name": "stdout",
     "output_type": "stream",
     "text": [
      "Saving model to: models\\01_pytorch_workflow_model_0.pth\n"
     ]
    }
   ],
   "source": [
    "# Saving our Pytorch model \n",
    "from pathlib import Path \n",
    "\n",
    "# 1. Create model directory \n",
    "MODEL_PATH = Path(\"models\")\n",
    "MODEL_PATH.mkdir(parents = True, exist_ok = True)\n",
    "\n",
    "#2. Create model save path \n",
    "MODEL_NAME = \"01_pytorch_workflow_model_0.pth\"\n",
    "MODEL_SAVE_PATH = MODEL_PATH / MODEL_NAME\n",
    "\n",
    "MODEL_SAVE_PATH\n",
    "\n",
    "# 3. Save the model state dict\n",
    "print(f\"Saving model to: {MODEL_SAVE_PATH}\")\n",
    "torch.save(obj=model_0.state_dict(), \n",
    "          f=MODEL_SAVE_PATH)\n"
   ]
  },
  {
   "cell_type": "markdown",
   "id": "12823a01",
   "metadata": {},
   "source": [
    "# Loading PyTorch model\n",
    "\n",
    "\n",
    "Since we saved our model's **state_dict()** rather the entire model, we'll create a new instance of our model class and load the saved **state_dict()** into that. "
   ]
  },
  {
   "cell_type": "code",
   "execution_count": 27,
   "id": "5701e117",
   "metadata": {},
   "outputs": [
    {
     "data": {
      "text/plain": [
       "OrderedDict([('weights', tensor([0.6990])), ('bias', tensor([0.3093]))])"
      ]
     },
     "execution_count": 27,
     "metadata": {},
     "output_type": "execute_result"
    }
   ],
   "source": [
    "model_0.state_dict()"
   ]
  },
  {
   "cell_type": "code",
   "execution_count": 28,
   "id": "1322eeb7",
   "metadata": {},
   "outputs": [
    {
     "data": {
      "text/plain": [
       "<All keys matched successfully>"
      ]
     },
     "execution_count": 28,
     "metadata": {},
     "output_type": "execute_result"
    }
   ],
   "source": [
    "# To load in a saved state_dict we have to instantiate a new instance of our model class\n",
    "loaded_model_0 = LinearRegressionModel()\n",
    "\n",
    "# Load the saved state_dict of model_0 (this will update the new instance with updated parameters)\n",
    "loaded_model_0.load_state_dict(torch.load(f=MODEL_SAVE_PATH))"
   ]
  },
  {
   "cell_type": "code",
   "execution_count": 29,
   "id": "7a9f15ea",
   "metadata": {},
   "outputs": [
    {
     "data": {
      "text/plain": [
       "OrderedDict([('weights', tensor([0.6990])), ('bias', tensor([0.3093]))])"
      ]
     },
     "execution_count": 29,
     "metadata": {},
     "output_type": "execute_result"
    }
   ],
   "source": [
    "loaded_model_0.state_dict()"
   ]
  },
  {
   "cell_type": "code",
   "execution_count": 30,
   "id": "bd1d06dc",
   "metadata": {},
   "outputs": [
    {
     "data": {
      "text/plain": [
       "tensor([[0.8685],\n",
       "        [0.8825],\n",
       "        [0.8965],\n",
       "        [0.9105],\n",
       "        [0.9245],\n",
       "        [0.9384],\n",
       "        [0.9524],\n",
       "        [0.9664],\n",
       "        [0.9804],\n",
       "        [0.9944]])"
      ]
     },
     "execution_count": 30,
     "metadata": {},
     "output_type": "execute_result"
    }
   ],
   "source": [
    "# Make some predictions with our loaded model\n",
    "loaded_model_0.eval()\n",
    "with torch.inference_mode():\n",
    "    loaded_model_preds = loaded_model_0(X_test)\n",
    "\n",
    "loaded_model_preds"
   ]
  },
  {
   "cell_type": "code",
   "execution_count": 31,
   "id": "b9eeab48",
   "metadata": {},
   "outputs": [
    {
     "data": {
      "text/plain": [
       "tensor([[0.8685],\n",
       "        [0.8825],\n",
       "        [0.8965],\n",
       "        [0.9105],\n",
       "        [0.9245],\n",
       "        [0.9384],\n",
       "        [0.9524],\n",
       "        [0.9664],\n",
       "        [0.9804],\n",
       "        [0.9944]])"
      ]
     },
     "execution_count": 31,
     "metadata": {},
     "output_type": "execute_result"
    }
   ],
   "source": [
    "# Make some model preds\n",
    "model_0.eval()\n",
    "with torch.inference_mode():\n",
    "    y_preds = model_0(X_test)\n",
    "\n",
    "y_preds"
   ]
  },
  {
   "cell_type": "code",
   "execution_count": 32,
   "id": "7a7a1d7a",
   "metadata": {},
   "outputs": [
    {
     "data": {
      "text/plain": [
       "tensor([[True],\n",
       "        [True],\n",
       "        [True],\n",
       "        [True],\n",
       "        [True],\n",
       "        [True],\n",
       "        [True],\n",
       "        [True],\n",
       "        [True],\n",
       "        [True]])"
      ]
     },
     "execution_count": 32,
     "metadata": {},
     "output_type": "execute_result"
    }
   ],
   "source": [
    "# compare loaded model preds with original model preds\n",
    "y_preds == loaded_model_preds"
   ]
  },
  {
   "cell_type": "code",
   "execution_count": null,
   "id": "cc645a6d",
   "metadata": {},
   "outputs": [],
   "source": []
  },
  {
   "cell_type": "markdown",
   "id": "b7391f25",
   "metadata": {},
   "source": [
    "# Putting it all together \n",
    "\n",
    "Let's go back through the steps above and see it all in one place."
   ]
  },
  {
   "cell_type": "code",
   "execution_count": 33,
   "id": "7dd1f5c2",
   "metadata": {},
   "outputs": [
    {
     "data": {
      "text/plain": [
       "'1.12.1'"
      ]
     },
     "execution_count": 33,
     "metadata": {},
     "output_type": "execute_result"
    }
   ],
   "source": [
    "# Import Pytorch and matplotlib\n",
    "import torch\n",
    "from torch import nn\n",
    "import matplotlib.pyplot as plt\n",
    "\n",
    "# Check PyTorch version \n",
    "torch.__version__"
   ]
  },
  {
   "cell_type": "markdown",
   "id": "c9ef08b7",
   "metadata": {},
   "source": [
    "create device-agnostic code.\n",
    "\n",
    "This means if we've got access to a GPU, our code will use it(if potentially faster computing).\n",
    "\n",
    "If not GPU available, the code will default to using CPU."
   ]
  },
  {
   "cell_type": "code",
   "execution_count": 34,
   "id": "244aa048",
   "metadata": {},
   "outputs": [
    {
     "name": "stdout",
     "output_type": "stream",
     "text": [
      "Using device: cpu\n"
     ]
    }
   ],
   "source": [
    "# Setup device agnostic code \n",
    "device = \"cuda\" if torch.cuda.is_available() else \"cpu\"\n",
    "print(f\"Using device: {device}\")"
   ]
  },
  {
   "cell_type": "markdown",
   "id": "a65b9192",
   "metadata": {},
   "source": [
    "### 6.1 Data"
   ]
  },
  {
   "cell_type": "code",
   "execution_count": 35,
   "id": "1353161d",
   "metadata": {},
   "outputs": [
    {
     "data": {
      "text/plain": [
       "(tensor([[0.0000],\n",
       "         [0.0200],\n",
       "         [0.0400],\n",
       "         [0.0600],\n",
       "         [0.0800],\n",
       "         [0.1000],\n",
       "         [0.1200],\n",
       "         [0.1400],\n",
       "         [0.1600],\n",
       "         [0.1800]]),\n",
       " tensor([[0.3000],\n",
       "         [0.3140],\n",
       "         [0.3280],\n",
       "         [0.3420],\n",
       "         [0.3560],\n",
       "         [0.3700],\n",
       "         [0.3840],\n",
       "         [0.3980],\n",
       "         [0.4120],\n",
       "         [0.4260]]))"
      ]
     },
     "execution_count": 35,
     "metadata": {},
     "output_type": "execute_result"
    }
   ],
   "source": [
    "# Create some data using the linear regression formula of y = weight*X + bias \n",
    "weight = 0.7\n",
    "bias = 0.3\n",
    "\n",
    "# Create range\n",
    "start = 0\n",
    "end = 1\n",
    "step = 0.02\n",
    "\n",
    "# create x and y (features and labels)\n",
    "X = torch.arange(start, end, step).unsqueeze(dim=1) #without unsqueeze, errors will pop up\n",
    "y = weight*X + bias \n",
    "X[:10], y[:10]"
   ]
  },
  {
   "cell_type": "code",
   "execution_count": 36,
   "id": "cc6743cc",
   "metadata": {},
   "outputs": [
    {
     "data": {
      "text/plain": [
       "(40, 40, 10, 10)"
      ]
     },
     "execution_count": 36,
     "metadata": {},
     "output_type": "execute_result"
    }
   ],
   "source": [
    "# Split data \n",
    "train_split = int(0.8*len(X))\n",
    "X_train, y_train = X[:train_split], y[:train_split]\n",
    "X_test, y_test = X[train_split:], y[train_split:]\n",
    "len(X_train), len(y_train), len(X_test), len(y_test)"
   ]
  },
  {
   "cell_type": "code",
   "execution_count": 37,
   "id": "89f579ba",
   "metadata": {},
   "outputs": [
    {
     "data": {
      "image/png": "[encoded data removed]",
      "text/plain": [
       "<Figure size 640x480 with 1 Axes>"
      ]
     },
     "metadata": {},
     "output_type": "display_data"
    }
   ],
   "source": [
    "# Plot the data\n",
    "plot_predictions(X_train, y_train, X_test, y_test)"
   ]
  },
  {
   "cell_type": "markdown",
   "id": "aeeb340e",
   "metadata": {},
   "source": [
    "## 6.2 Building a PyTorch Linear Model"
   ]
  },
  {
   "cell_type": "code",
   "execution_count": 38,
   "id": "e1be12e7",
   "metadata": {},
   "outputs": [
    {
     "data": {
      "text/plain": [
       "(LinearRegressionModelV2(\n",
       "   (linear_layer): Linear(in_features=1, out_features=1, bias=True)\n",
       " ),\n",
       " OrderedDict([('linear_layer.weight', tensor([[0.7645]])),\n",
       "              ('linear_layer.bias', tensor([0.8300]))]))"
      ]
     },
     "execution_count": 38,
     "metadata": {},
     "output_type": "execute_result"
    }
   ],
   "source": [
    "# Create a linear model by subclassing nn.Module\n",
    "class LinearRegressionModelV2(nn.Module):\n",
    "    def __init__(self):\n",
    "        super().__init__()\n",
    "        # Use nn.Linear() for creating the model parameters / also called: Linear transforn (y = xA.T + b), dense layer\n",
    "        self.linear_layer = nn.Linear(in_features = 1, \n",
    "                                      out_features=1)\n",
    "        \n",
    "    def forward(self, x: torch.Tensor) -> torch.Tensor: # \"x\" is the input data\n",
    "        return self.linear_layer(x)\n",
    "\n",
    "# Set the manual seed \n",
    "torch.manual_seed(42)\n",
    "model_1 = LinearRegressionModelV2()\n",
    "model_1, model_1.state_dict()"
   ]
  },
  {
   "cell_type": "code",
   "execution_count": 39,
   "id": "d53906d4",
   "metadata": {},
   "outputs": [
    {
     "data": {
      "text/plain": [
       "OrderedDict([('linear_layer.weight', tensor([[0.7645]])),\n",
       "             ('linear_layer.bias', tensor([0.8300]))])"
      ]
     },
     "execution_count": 39,
     "metadata": {},
     "output_type": "execute_result"
    }
   ],
   "source": [
    "model_1.state_dict()"
   ]
  },
  {
   "cell_type": "code",
   "execution_count": 40,
   "id": "812747c0",
   "metadata": {},
   "outputs": [
    {
     "data": {
      "text/plain": [
       "(tensor([[0.0000],\n",
       "         [0.0200],\n",
       "         [0.0400],\n",
       "         [0.0600],\n",
       "         [0.0800]]),\n",
       " tensor([[0.3000],\n",
       "         [0.3140],\n",
       "         [0.3280],\n",
       "         [0.3420],\n",
       "         [0.3560]]))"
      ]
     },
     "execution_count": 40,
     "metadata": {},
     "output_type": "execute_result"
    }
   ],
   "source": [
    "X_train[:5], y_train[:5]"
   ]
  },
  {
   "cell_type": "code",
   "execution_count": 41,
   "id": "33d08e43",
   "metadata": {},
   "outputs": [
    {
     "data": {
      "text/plain": [
       "device(type='cpu')"
      ]
     },
     "execution_count": 41,
     "metadata": {},
     "output_type": "execute_result"
    }
   ],
   "source": [
    "# Check the model current device \n",
    "next(model_1.parameters()).device"
   ]
  },
  {
   "cell_type": "code",
   "execution_count": 42,
   "id": "76b393c9",
   "metadata": {},
   "outputs": [
    {
     "data": {
      "text/plain": [
       "OrderedDict([('linear_layer.weight', tensor([[0.7645]])),\n",
       "             ('linear_layer.bias', tensor([0.8300]))])"
      ]
     },
     "execution_count": 42,
     "metadata": {},
     "output_type": "execute_result"
    }
   ],
   "source": [
    "model_1.state_dict()"
   ]
  },
  {
   "cell_type": "markdown",
   "id": "db5ef86c",
   "metadata": {},
   "source": [
    "### 6.3 Training \n",
    "\n",
    "For training we need:\n",
    "* Loss function \n",
    "* Optimizer \n",
    "* Training loop \n",
    "* Testing loop "
   ]
  },
  {
   "cell_type": "code",
   "execution_count": 43,
   "id": "80f712f7",
   "metadata": {},
   "outputs": [],
   "source": [
    "# Setup loss function \n",
    "loss_fn = nn.L1Loss() # same as MAE\n",
    "\n",
    "# Setup our optimizer \n",
    "optimizer = torch.optim.SGD(params = model_1.parameters(), \n",
    "                          lr = 0.01)"
   ]
  },
  {
   "cell_type": "code",
   "execution_count": 44,
   "id": "b6420bf2",
   "metadata": {},
   "outputs": [
    {
     "name": "stdout",
     "output_type": "stream",
     "text": [
      "Epoch : 0 | Loss: 0.5551779866218567 | Test Loss:0.5739762187004089\n",
      "Epoch : 10 | Loss: 0.4399680495262146 | Test Loss:0.4392663538455963\n",
      "Epoch : 20 | Loss: 0.3247582018375397 | Test Loss:0.30455657839775085\n",
      "Epoch : 30 | Loss: 0.20954827964305878 | Test Loss:0.16984674334526062\n",
      "Epoch : 40 | Loss: 0.09433844685554504 | Test Loss:0.03513689711689949\n",
      "Epoch : 50 | Loss: 0.023886386305093765 | Test Loss:0.04784906655550003\n",
      "Epoch : 60 | Loss: 0.0199567973613739 | Test Loss:0.04580312222242355\n",
      "Epoch : 70 | Loss: 0.016517987474799156 | Test Loss:0.0375305712223053\n",
      "Epoch : 80 | Loss: 0.013089170679450035 | Test Loss:0.029944902285933495\n",
      "Epoch : 90 | Loss: 0.009653178043663502 | Test Loss:0.02167237363755703\n",
      "Epoch : 100 | Loss: 0.006215679459273815 | Test Loss:0.014086711220443249\n",
      "Epoch : 110 | Loss: 0.002787243574857712 | Test Loss:0.005814164876937866\n",
      "Epoch : 120 | Loss: 0.0012645035749301314 | Test Loss:0.013801807537674904\n",
      "Epoch : 130 | Loss: 0.0012645035749301314 | Test Loss:0.013801807537674904\n",
      "Epoch : 140 | Loss: 0.0012645035749301314 | Test Loss:0.013801807537674904\n",
      "Epoch : 150 | Loss: 0.0012645035749301314 | Test Loss:0.013801807537674904\n",
      "Epoch : 160 | Loss: 0.0012645035749301314 | Test Loss:0.013801807537674904\n",
      "Epoch : 170 | Loss: 0.0012645035749301314 | Test Loss:0.013801807537674904\n",
      "Epoch : 180 | Loss: 0.0012645035749301314 | Test Loss:0.013801807537674904\n",
      "Epoch : 190 | Loss: 0.0012645035749301314 | Test Loss:0.013801807537674904\n"
     ]
    }
   ],
   "source": [
    "# Let's write a traing loop \n",
    "torch.manual_seed(42)\n",
    "\n",
    "epochs = 200\n",
    "\n",
    "for epoch in range(epochs):\n",
    "    model_1.train()\n",
    "    \n",
    "    # 1. Forward pass \n",
    "    y_pred = model_1(X_train)\n",
    "    \n",
    "    # 2. Calculate the loss \n",
    "    loss = loss_fn(y_pred, y_train)\n",
    "    \n",
    "    #3. Optimizer zero grad \n",
    "    optimizer.zero_grad()\n",
    "    \n",
    "    #4. Perform backpropagation \n",
    "    loss.backward()\n",
    "    \n",
    "    #5. Optimizer step \n",
    "    optimizer.step()\n",
    "    \n",
    "    ### Testing \n",
    "    model_1.eval()\n",
    "    with torch.inference_mode():\n",
    "        test_pred = model_1(X_test)\n",
    "        \n",
    "        test_loss = loss_fn(test_pred, y_test)\n",
    "    \n",
    "    # Print out what's happening \n",
    "    if epoch % 10 == 0:\n",
    "        print(f\"Epoch : {epoch} | Loss: {loss} | Test Loss:{test_loss}\")\n",
    "        "
   ]
  },
  {
   "cell_type": "code",
   "execution_count": 45,
   "id": "6ae08a95",
   "metadata": {},
   "outputs": [
    {
     "data": {
      "text/plain": [
       "OrderedDict([('linear_layer.weight', tensor([[0.6968]])),\n",
       "             ('linear_layer.bias', tensor([0.3025]))])"
      ]
     },
     "execution_count": 45,
     "metadata": {},
     "output_type": "execute_result"
    }
   ],
   "source": [
    "model_1.state_dict()"
   ]
  },
  {
   "cell_type": "code",
   "execution_count": 46,
   "id": "96c43a98",
   "metadata": {},
   "outputs": [
    {
     "data": {
      "text/plain": [
       "(0.7, 0.3)"
      ]
     },
     "execution_count": 46,
     "metadata": {},
     "output_type": "execute_result"
    }
   ],
   "source": [
    "weight, bias"
   ]
  },
  {
   "cell_type": "markdown",
   "id": "e1bb5165",
   "metadata": {},
   "source": [
    "## 6.4 Making and evaluating predictions "
   ]
  },
  {
   "cell_type": "code",
   "execution_count": 47,
   "id": "de84b4c4",
   "metadata": {},
   "outputs": [
    {
     "data": {
      "text/plain": [
       "tensor([[0.8600],\n",
       "        [0.8739],\n",
       "        [0.8878],\n",
       "        [0.9018],\n",
       "        [0.9157],\n",
       "        [0.9296],\n",
       "        [0.9436],\n",
       "        [0.9575],\n",
       "        [0.9714],\n",
       "        [0.9854]])"
      ]
     },
     "execution_count": 47,
     "metadata": {},
     "output_type": "execute_result"
    }
   ],
   "source": [
    "# Turn model into evaluatiion mode \n",
    "model_1.eval()\n",
    "\n",
    "# Make preditions on the test data\n",
    "with torch.inference_mode():\n",
    "    y_preds = model_1(X_test)\n",
    "y_preds"
   ]
  },
  {
   "cell_type": "code",
   "execution_count": 49,
   "id": "c7a3ac86",
   "metadata": {},
   "outputs": [
    {
     "data": {
      "image/png": "[encoded data removed]",
      "text/plain": [
       "<Figure size 640x480 with 1 Axes>"
      ]
     },
     "metadata": {},
     "output_type": "display_data"
    }
   ],
   "source": [
    "# Check out our model predictions visually \n",
    "plot_predictions(predictions = y_preds)"
   ]
  },
  {
   "cell_type": "markdown",
   "id": "728c3377",
   "metadata": {},
   "source": [
    "# 6.5 Saving & loading a trained model "
   ]
  },
  {
   "cell_type": "code",
   "execution_count": 52,
   "id": "f917fc92",
   "metadata": {},
   "outputs": [
    {
     "name": "stdout",
     "output_type": "stream",
     "text": [
      "Saving model to: models\\01_pytorch_workflow_model_1.pth\n"
     ]
    }
   ],
   "source": [
    "from pathlib import Path\n",
    "\n",
    "# 1. Create model directory \n",
    "MODEL_PATH = Path(\"models\")\n",
    "MODEL_PATH.mkdir(parents =True, exist_ok = True)\n",
    "\n",
    "# 2. Create model save path\n",
    "MODEL_NAME = \"01_pytorch_workflow_model_1.pth\"\n",
    "MODEL_SAVE_PATH = MODEL_PATH / MODEL_NAME\n",
    "\n",
    "# 3. Save the model state dict\n",
    "print(f\"Saving model to: {MODEL_SAVE_PATH}\")\n",
    "torch.save(obj=model_1.state_dict(), \n",
    "          f=MODEL_SAVE_PATH)"
   ]
  },
  {
   "cell_type": "code",
   "execution_count": 64,
   "id": "cfd961de",
   "metadata": {},
   "outputs": [
    {
     "data": {
      "text/plain": [
       "<All keys matched successfully>"
      ]
     },
     "execution_count": 64,
     "metadata": {},
     "output_type": "execute_result"
    }
   ],
   "source": [
    "# Load a PyTorch model \n",
    "\n",
    "# Create a new instance of linear regression model V2\n",
    "loaded_model_1 = LinearRegressionModelV2()\n",
    "\n",
    "# Load the saved model_1 state_dict\n",
    "loaded_model_1.load_state_dict(torch.load(MODEL_SAVE_PATH))\n",
    "\n",
    "# Put the loaded model to device\n",
    "# loaded_model_1.to(device)"
   ]
  },
  {
   "cell_type": "code",
   "execution_count": 65,
   "id": "a95051f9",
   "metadata": {},
   "outputs": [
    {
     "data": {
      "text/plain": [
       "OrderedDict([('linear_layer.weight', tensor([[0.6968]])),\n",
       "             ('linear_layer.bias', tensor([0.3025]))])"
      ]
     },
     "execution_count": 65,
     "metadata": {},
     "output_type": "execute_result"
    }
   ],
   "source": [
    "loaded_model_1.state_dict()"
   ]
  },
  {
   "cell_type": "code",
   "execution_count": 67,
   "id": "c673c70f",
   "metadata": {},
   "outputs": [
    {
     "data": {
      "text/plain": [
       "tensor([[True],\n",
       "        [True],\n",
       "        [True],\n",
       "        [True],\n",
       "        [True],\n",
       "        [True],\n",
       "        [True],\n",
       "        [True],\n",
       "        [True],\n",
       "        [True]])"
      ]
     },
     "execution_count": 67,
     "metadata": {},
     "output_type": "execute_result"
    }
   ],
   "source": [
    "# Evaluate loaded model \n",
    "loaded_model_1.eval()\n",
    "with torch.inference_mode():\n",
    "    loaded_model_1_pred = loaded_model_1(X_test)\n",
    "y_preds == loaded_model_1_pred"
   ]
  }
 ],
 "metadata": {
  "kernelspec": {
   "display_name": "Python 3 (ipykernel)",
   "language": "python",
   "name": "python3"
  },
  "language_info": {
   "codemirror_mode": {
    "name": "ipython",
    "version": 3
   },
   "file_extension": ".py",
   "mimetype": "text/x-python",
   "name": "python",
   "nbconvert_exporter": "python",
   "pygments_lexer": "ipython3",
   "version": "3.9.12"
  }
 },
 "nbformat": 4,
 "nbformat_minor": 5
}
